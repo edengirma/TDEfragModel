{
 "cells": [
  {
   "cell_type": "code",
   "execution_count": 1,
   "metadata": {
    "scrolled": false
   },
   "outputs": [
    {
     "data": {
      "text/plain": [
       "0.6078626974104524"
      ]
     },
     "execution_count": 1,
     "metadata": {},
     "output_type": "execute_result"
    }
   ],
   "source": [
    "from fragSimSetup import initialize_sim.py as i\n",
    "\n",
    "Nstars = 1000\n",
    "s = i.TDEsim(Nstars)\n",
    "s.initialize()"
   ]
  },
  {
   "cell_type": "code",
   "execution_count": null,
   "metadata": {
    "collapsed": true,
    "scrolled": false
   },
   "outputs": [],
   "source": [
    "#For Jupyter/IPython notebook\n",
    "import numpy as np\n",
    "import matplotlib.pyplot as plt\n",
    "from IPython.display import display, clear_output\n",
    "from mpl_toolkits.mplot3d import Axes3D\n",
    "import seaborn as sns\n",
    "%matplotlib notebook\n",
    "sns.set(color_codes=True)\n",
    "\n",
    "fig2 = plt.figure(figsize=(10,10))\n",
    "ax2 = fig2.add_subplot(111, projection='3d')\n",
    "colors = sns.color_palette(\"hls\", s.Nstars).as_hex()\n",
    "plotted_frag = 0\n",
    "\n",
    "for star in range(s.Nstars):\n",
    "    for frag in range(len(s.posx[star])):\n",
    "        if len(s.posx[star][frag]) < s.Nout:\n",
    "            continue\n",
    "        ax2.plot(s.posx[star][frag],s.posy[star][frag],s.posz[star][frag], \\\n",
    "                 c = colors[star]);\n",
    "        ax2.scatter([s.posx[star][frag][-1]],[s.posy[star][frag][-1]],[s.posz[star][frag][-1]],\\\n",
    "                    c = colors[star]);\n",
    "        plotted_frag += 1\n",
    "        \n",
    "ax2.scatter(-8,0,0, c=\"orange\", s=30, marker=\"o\")\n",
    "ax2.scatter(0,0,0, c=\"yellow\", s=30, marker=\"o\")\n",
    "ax2.set_xlabel('X position (kpc)')\n",
    "ax2.set_ylabel('Y position (kpc)')\n",
    "ax2.set_zlabel('Z position (kpc)')\n",
    "\n",
    "print('Plotted fragments: ', plotted_frag)\n",
    "# box_size = 0.9\n",
    "# ax2.set_xlim(-box_size,box_size)\n",
    "# ax2.set_ylim(-box_size,box_size)\n",
    "# ax2.set_zlim(-box_size,box_size)"
   ]
  }
 ],
 "metadata": {
  "kernelspec": {
   "display_name": "Python 2",
   "language": "python",
   "name": "python2"
  },
  "language_info": {
   "codemirror_mode": {
    "name": "ipython",
    "version": 2
   },
   "file_extension": ".py",
   "mimetype": "text/x-python",
   "name": "python",
   "nbconvert_exporter": "python",
   "pygments_lexer": "ipython2",
   "version": "2.7.13"
  }
 },
 "nbformat": 4,
 "nbformat_minor": 1
}
